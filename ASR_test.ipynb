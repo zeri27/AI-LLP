{
 "cells": [
  {
   "cell_type": "markdown",
   "metadata": {},
   "source": [
    "# ASR Module"
   ]
  },
  {
   "cell_type": "markdown",
   "metadata": {},
   "source": [
    "## Install Dependencies"
   ]
  },
  {
   "cell_type": "code",
   "execution_count": 56,
   "metadata": {},
   "outputs": [
    {
     "name": "stdout",
     "output_type": "stream",
     "text": [
      "Requirement already satisfied: openai-whisper in /opt/anaconda3/envs/faiss-env/lib/python3.11/site-packages (20240930)\n",
      "Requirement already satisfied: numba in /opt/anaconda3/envs/faiss-env/lib/python3.11/site-packages (from openai-whisper) (0.61.0)\n",
      "Requirement already satisfied: numpy in /opt/anaconda3/envs/faiss-env/lib/python3.11/site-packages (from openai-whisper) (1.26.4)\n",
      "Requirement already satisfied: torch in /opt/anaconda3/envs/faiss-env/lib/python3.11/site-packages (from openai-whisper) (2.2.2)\n",
      "Requirement already satisfied: tqdm in /opt/anaconda3/envs/faiss-env/lib/python3.11/site-packages (from openai-whisper) (4.67.1)\n",
      "Requirement already satisfied: more-itertools in /opt/anaconda3/envs/faiss-env/lib/python3.11/site-packages (from openai-whisper) (10.6.0)\n",
      "Requirement already satisfied: tiktoken in /opt/anaconda3/envs/faiss-env/lib/python3.11/site-packages (from openai-whisper) (0.9.0)\n",
      "Requirement already satisfied: llvmlite<0.45,>=0.44.0dev0 in /opt/anaconda3/envs/faiss-env/lib/python3.11/site-packages (from numba->openai-whisper) (0.44.0)\n",
      "Requirement already satisfied: regex>=2022.1.18 in /opt/anaconda3/envs/faiss-env/lib/python3.11/site-packages (from tiktoken->openai-whisper) (2024.11.6)\n",
      "Requirement already satisfied: requests>=2.26.0 in /opt/anaconda3/envs/faiss-env/lib/python3.11/site-packages (from tiktoken->openai-whisper) (2.32.3)\n",
      "Requirement already satisfied: filelock in /opt/anaconda3/envs/faiss-env/lib/python3.11/site-packages (from torch->openai-whisper) (3.17.0)\n",
      "Requirement already satisfied: typing-extensions>=4.8.0 in /opt/anaconda3/envs/faiss-env/lib/python3.11/site-packages (from torch->openai-whisper) (4.12.2)\n",
      "Requirement already satisfied: sympy in /opt/anaconda3/envs/faiss-env/lib/python3.11/site-packages (from torch->openai-whisper) (1.13.3)\n",
      "Requirement already satisfied: networkx in /opt/anaconda3/envs/faiss-env/lib/python3.11/site-packages (from torch->openai-whisper) (3.4.2)\n",
      "Requirement already satisfied: jinja2 in /opt/anaconda3/envs/faiss-env/lib/python3.11/site-packages (from torch->openai-whisper) (3.1.6)\n",
      "Requirement already satisfied: fsspec in /opt/anaconda3/envs/faiss-env/lib/python3.11/site-packages (from torch->openai-whisper) (2025.2.0)\n",
      "Requirement already satisfied: charset-normalizer<4,>=2 in /opt/anaconda3/envs/faiss-env/lib/python3.11/site-packages (from requests>=2.26.0->tiktoken->openai-whisper) (3.4.1)\n",
      "Requirement already satisfied: idna<4,>=2.5 in /opt/anaconda3/envs/faiss-env/lib/python3.11/site-packages (from requests>=2.26.0->tiktoken->openai-whisper) (3.10)\n",
      "Requirement already satisfied: urllib3<3,>=1.21.1 in /opt/anaconda3/envs/faiss-env/lib/python3.11/site-packages (from requests>=2.26.0->tiktoken->openai-whisper) (2.3.0)\n",
      "Requirement already satisfied: certifi>=2017.4.17 in /opt/anaconda3/envs/faiss-env/lib/python3.11/site-packages (from requests>=2.26.0->tiktoken->openai-whisper) (2025.1.31)\n",
      "Requirement already satisfied: MarkupSafe>=2.0 in /opt/anaconda3/envs/faiss-env/lib/python3.11/site-packages (from jinja2->torch->openai-whisper) (3.0.2)\n",
      "Requirement already satisfied: mpmath<1.4,>=1.1.0 in /opt/anaconda3/envs/faiss-env/lib/python3.11/site-packages (from sympy->torch->openai-whisper) (1.3.0)\n",
      "Note: you may need to restart the kernel to use updated packages.\n"
     ]
    }
   ],
   "source": [
    "pip install --upgrade --no-cache-dir openai-whisper\n"
   ]
  },
  {
   "cell_type": "code",
   "execution_count": 57,
   "metadata": {},
   "outputs": [
    {
     "name": "stdout",
     "output_type": "stream",
     "text": [
      "Requirement already satisfied: sounddevice in /opt/anaconda3/envs/faiss-env/lib/python3.11/site-packages (0.5.1)\n",
      "Requirement already satisfied: wave in /opt/anaconda3/envs/faiss-env/lib/python3.11/site-packages (0.0.2)\n",
      "Requirement already satisfied: transformers in /opt/anaconda3/envs/faiss-env/lib/python3.11/site-packages (4.49.0)\n",
      "Requirement already satisfied: sentence-transformers in /opt/anaconda3/envs/faiss-env/lib/python3.11/site-packages (3.4.1)\n",
      "Requirement already satisfied: librosa in /opt/anaconda3/envs/faiss-env/lib/python3.11/site-packages (0.10.2.post1)\n",
      "Requirement already satisfied: soundfile in /opt/anaconda3/envs/faiss-env/lib/python3.11/site-packages (0.13.1)\n",
      "Requirement already satisfied: noisereduce in /opt/anaconda3/envs/faiss-env/lib/python3.11/site-packages (3.0.3)\n",
      "Requirement already satisfied: webrtcvad in /opt/anaconda3/envs/faiss-env/lib/python3.11/site-packages (2.0.10)\n",
      "Requirement already satisfied: CFFI>=1.0 in /opt/anaconda3/envs/faiss-env/lib/python3.11/site-packages (from sounddevice) (1.17.1)\n",
      "Requirement already satisfied: filelock in /opt/anaconda3/envs/faiss-env/lib/python3.11/site-packages (from transformers) (3.17.0)\n",
      "Requirement already satisfied: huggingface-hub<1.0,>=0.26.0 in /opt/anaconda3/envs/faiss-env/lib/python3.11/site-packages (from transformers) (0.29.2)\n",
      "Requirement already satisfied: numpy>=1.17 in /opt/anaconda3/envs/faiss-env/lib/python3.11/site-packages (from transformers) (1.26.4)\n",
      "Requirement already satisfied: packaging>=20.0 in /opt/anaconda3/envs/faiss-env/lib/python3.11/site-packages (from transformers) (24.2)\n",
      "Requirement already satisfied: pyyaml>=5.1 in /opt/anaconda3/envs/faiss-env/lib/python3.11/site-packages (from transformers) (6.0.2)\n",
      "Requirement already satisfied: regex!=2019.12.17 in /opt/anaconda3/envs/faiss-env/lib/python3.11/site-packages (from transformers) (2024.11.6)\n",
      "Requirement already satisfied: requests in /opt/anaconda3/envs/faiss-env/lib/python3.11/site-packages (from transformers) (2.32.3)\n",
      "Requirement already satisfied: tokenizers<0.22,>=0.21 in /opt/anaconda3/envs/faiss-env/lib/python3.11/site-packages (from transformers) (0.21.0)\n",
      "Requirement already satisfied: safetensors>=0.4.1 in /opt/anaconda3/envs/faiss-env/lib/python3.11/site-packages (from transformers) (0.5.3)\n",
      "Requirement already satisfied: tqdm>=4.27 in /opt/anaconda3/envs/faiss-env/lib/python3.11/site-packages (from transformers) (4.67.1)\n",
      "Requirement already satisfied: torch>=1.11.0 in /opt/anaconda3/envs/faiss-env/lib/python3.11/site-packages (from sentence-transformers) (2.2.2)\n",
      "Requirement already satisfied: scikit-learn in /opt/anaconda3/envs/faiss-env/lib/python3.11/site-packages (from sentence-transformers) (1.6.1)\n",
      "Requirement already satisfied: scipy in /opt/anaconda3/envs/faiss-env/lib/python3.11/site-packages (from sentence-transformers) (1.15.2)\n",
      "Requirement already satisfied: Pillow in /opt/anaconda3/envs/faiss-env/lib/python3.11/site-packages (from sentence-transformers) (11.1.0)\n",
      "Requirement already satisfied: audioread>=2.1.9 in /opt/anaconda3/envs/faiss-env/lib/python3.11/site-packages (from librosa) (3.0.1)\n",
      "Requirement already satisfied: joblib>=0.14 in /opt/anaconda3/envs/faiss-env/lib/python3.11/site-packages (from librosa) (1.4.2)\n",
      "Requirement already satisfied: decorator>=4.3.0 in /opt/anaconda3/envs/faiss-env/lib/python3.11/site-packages (from librosa) (5.2.1)\n",
      "Requirement already satisfied: numba>=0.51.0 in /opt/anaconda3/envs/faiss-env/lib/python3.11/site-packages (from librosa) (0.61.0)\n",
      "Requirement already satisfied: pooch>=1.1 in /opt/anaconda3/envs/faiss-env/lib/python3.11/site-packages (from librosa) (1.8.2)\n",
      "Requirement already satisfied: soxr>=0.3.2 in /opt/anaconda3/envs/faiss-env/lib/python3.11/site-packages (from librosa) (0.5.0.post1)\n",
      "Requirement already satisfied: typing-extensions>=4.1.1 in /opt/anaconda3/envs/faiss-env/lib/python3.11/site-packages (from librosa) (4.12.2)\n",
      "Requirement already satisfied: lazy-loader>=0.1 in /opt/anaconda3/envs/faiss-env/lib/python3.11/site-packages (from librosa) (0.4)\n",
      "Requirement already satisfied: msgpack>=1.0 in /opt/anaconda3/envs/faiss-env/lib/python3.11/site-packages (from librosa) (1.1.0)\n",
      "Requirement already satisfied: matplotlib in /opt/anaconda3/envs/faiss-env/lib/python3.11/site-packages (from noisereduce) (3.10.1)\n",
      "Requirement already satisfied: pycparser in /opt/anaconda3/envs/faiss-env/lib/python3.11/site-packages (from CFFI>=1.0->sounddevice) (2.22)\n",
      "Requirement already satisfied: fsspec>=2023.5.0 in /opt/anaconda3/envs/faiss-env/lib/python3.11/site-packages (from huggingface-hub<1.0,>=0.26.0->transformers) (2025.2.0)\n",
      "Requirement already satisfied: llvmlite<0.45,>=0.44.0dev0 in /opt/anaconda3/envs/faiss-env/lib/python3.11/site-packages (from numba>=0.51.0->librosa) (0.44.0)\n",
      "Requirement already satisfied: platformdirs>=2.5.0 in /opt/anaconda3/envs/faiss-env/lib/python3.11/site-packages (from pooch>=1.1->librosa) (4.3.6)\n",
      "Requirement already satisfied: charset-normalizer<4,>=2 in /opt/anaconda3/envs/faiss-env/lib/python3.11/site-packages (from requests->transformers) (3.4.1)\n",
      "Requirement already satisfied: idna<4,>=2.5 in /opt/anaconda3/envs/faiss-env/lib/python3.11/site-packages (from requests->transformers) (3.10)\n",
      "Requirement already satisfied: urllib3<3,>=1.21.1 in /opt/anaconda3/envs/faiss-env/lib/python3.11/site-packages (from requests->transformers) (2.3.0)\n",
      "Requirement already satisfied: certifi>=2017.4.17 in /opt/anaconda3/envs/faiss-env/lib/python3.11/site-packages (from requests->transformers) (2025.1.31)\n",
      "Requirement already satisfied: threadpoolctl>=3.1.0 in /opt/anaconda3/envs/faiss-env/lib/python3.11/site-packages (from scikit-learn->sentence-transformers) (3.5.0)\n",
      "Requirement already satisfied: sympy in /opt/anaconda3/envs/faiss-env/lib/python3.11/site-packages (from torch>=1.11.0->sentence-transformers) (1.13.3)\n",
      "Requirement already satisfied: networkx in /opt/anaconda3/envs/faiss-env/lib/python3.11/site-packages (from torch>=1.11.0->sentence-transformers) (3.4.2)\n",
      "Requirement already satisfied: jinja2 in /opt/anaconda3/envs/faiss-env/lib/python3.11/site-packages (from torch>=1.11.0->sentence-transformers) (3.1.6)\n",
      "Requirement already satisfied: contourpy>=1.0.1 in /opt/anaconda3/envs/faiss-env/lib/python3.11/site-packages (from matplotlib->noisereduce) (1.3.1)\n",
      "Requirement already satisfied: cycler>=0.10 in /opt/anaconda3/envs/faiss-env/lib/python3.11/site-packages (from matplotlib->noisereduce) (0.12.1)\n",
      "Requirement already satisfied: fonttools>=4.22.0 in /opt/anaconda3/envs/faiss-env/lib/python3.11/site-packages (from matplotlib->noisereduce) (4.56.0)\n",
      "Requirement already satisfied: kiwisolver>=1.3.1 in /opt/anaconda3/envs/faiss-env/lib/python3.11/site-packages (from matplotlib->noisereduce) (1.4.8)\n",
      "Requirement already satisfied: pyparsing>=2.3.1 in /opt/anaconda3/envs/faiss-env/lib/python3.11/site-packages (from matplotlib->noisereduce) (3.2.1)\n",
      "Requirement already satisfied: python-dateutil>=2.7 in /opt/anaconda3/envs/faiss-env/lib/python3.11/site-packages (from matplotlib->noisereduce) (2.9.0.post0)\n",
      "Requirement already satisfied: six>=1.5 in /opt/anaconda3/envs/faiss-env/lib/python3.11/site-packages (from python-dateutil>=2.7->matplotlib->noisereduce) (1.17.0)\n",
      "Requirement already satisfied: MarkupSafe>=2.0 in /opt/anaconda3/envs/faiss-env/lib/python3.11/site-packages (from jinja2->torch>=1.11.0->sentence-transformers) (3.0.2)\n",
      "Requirement already satisfied: mpmath<1.4,>=1.1.0 in /opt/anaconda3/envs/faiss-env/lib/python3.11/site-packages (from sympy->torch>=1.11.0->sentence-transformers) (1.3.0)\n",
      "Note: you may need to restart the kernel to use updated packages.\n"
     ]
    }
   ],
   "source": [
    "pip install sounddevice wave transformers sentence-transformers librosa soundfile noisereduce webrtcvad"
   ]
  },
  {
   "cell_type": "markdown",
   "metadata": {},
   "source": [
    "## ASR"
   ]
  },
  {
   "cell_type": "code",
   "execution_count": 58,
   "metadata": {},
   "outputs": [],
   "source": [
    "import numpy as np\n",
    "import wave\n",
    "import whisper\n",
    "import librosa\n",
    "import webrtcvad\n",
    "import soundfile as sf\n",
    "import sounddevice as sd\n",
    "import noisereduce as nr\n"
   ]
  },
  {
   "cell_type": "code",
   "execution_count": 59,
   "metadata": {},
   "outputs": [],
   "source": [
    "# Load Whisper model (using 'small' for efficiency)\n",
    "asr_model = whisper.load_model(\"small\")\n"
   ]
  },
  {
   "cell_type": "code",
   "execution_count": 60,
   "metadata": {},
   "outputs": [],
   "source": [
    "def listen_for_speech(sample_rate=16000, frame_duration_ms=30, silence_duration_ms=1500):\n",
    "    \"\"\"\n",
    "    Continuously listens for speech and returns recorded audio when detected.\n",
    "    Stops recording after prolonged silence.\n",
    "    \"\"\"\n",
    "    vad = webrtcvad.Vad(0)  # Moderate aggressiveness\n",
    "    frame_size = int(sample_rate * frame_duration_ms / 1000)\n",
    "    silence_frames = int(silence_duration_ms / frame_duration_ms)\n",
    "    audio = []\n",
    "    silence_counter = 0\n",
    "    recording = False\n",
    "\n",
    "    print(\"Listening for speech... (Speak anytime)\")\n",
    "\n",
    "    with sd.InputStream(samplerate=sample_rate, channels=1, dtype='int16') as stream:\n",
    "        while True:\n",
    "            frame = stream.read(frame_size)[0]\n",
    "            is_speech = vad.is_speech(frame.tobytes(), sample_rate)\n",
    "\n",
    "            if is_speech:\n",
    "                audio.append(frame)\n",
    "                silence_counter = 0\n",
    "                recording = True\n",
    "            elif recording:\n",
    "                silence_counter += 1\n",
    "                audio.append(frame)\n",
    "                if silence_counter > silence_frames:\n",
    "                    print(\"Stopped listening due to silence.\")\n",
    "                    break\n",
    "\n",
    "    if recording:\n",
    "        return b''.join([f.tobytes() for f in audio])  # Return raw audio bytes\n",
    "    return None\n"
   ]
  },
  {
   "cell_type": "code",
   "execution_count": 61,
   "metadata": {},
   "outputs": [],
   "source": [
    "def save_audio(audio_bytes, filename, sample_rate=16000):\n",
    "    with wave.open(filename, 'wb') as wf:\n",
    "        wf.setnchannels(1)\n",
    "        wf.setsampwidth(2)\n",
    "        wf.setframerate(sample_rate)\n",
    "        wf.writeframes(audio_bytes)\n"
   ]
  },
  {
   "cell_type": "code",
   "execution_count": 62,
   "metadata": {},
   "outputs": [],
   "source": [
    "def reduce_noise(input_audio, output_audio):\n",
    "    \"\"\"\n",
    "    Applies noise reduction to an audio file and saves the cleaned version.\n",
    "    Args:\n",
    "        input_audio (str): Path to the input noisy audio file.\n",
    "        output_audio (str): Path to save the cleaned audio file.\n",
    "    \"\"\"\n",
    "    y, sr = librosa.load(input_audio, sr=None)\n",
    "    reduced_noise = nr.reduce_noise(y=y, sr=sr)\n",
    "    sf.write(output_audio, reduced_noise, sr)\n",
    "    return output_audio\n"
   ]
  },
  {
   "cell_type": "code",
   "execution_count": 63,
   "metadata": {},
   "outputs": [],
   "source": [
    "def transcribe_audio(audio_path):\n",
    "    \"\"\"\n",
    "    Transcribes speech from an audio file using Whisper ASR.\n",
    "    Args:\n",
    "        audio_path (str): Path to the audio file.\n",
    "    Returns:\n",
    "        str: Transcribed text.\n",
    "    \"\"\"\n",
    "    cleaned_audio = reduce_noise(audio_path, \"audio_cleaned.wav\")\n",
    "    result = asr_model.transcribe(cleaned_audio)\n",
    "    return result[\"text\"]\n"
   ]
  },
  {
   "cell_type": "code",
   "execution_count": 64,
   "metadata": {},
   "outputs": [
    {
     "name": "stdout",
     "output_type": "stream",
     "text": [
      "Listening for speech... (Speak anytime)\n",
      "Stopped listening due to silence.\n"
     ]
    },
    {
     "name": "stderr",
     "output_type": "stream",
     "text": [
      "/opt/anaconda3/envs/faiss-env/lib/python3.11/site-packages/whisper/transcribe.py:126: UserWarning: FP16 is not supported on CPU; using FP32 instead\n",
      "  warnings.warn(\"FP16 is not supported on CPU; using FP32 instead\")\n"
     ]
    },
    {
     "name": "stdout",
     "output_type": "stream",
     "text": [
      "\n",
      "Transcription Output:\n",
      " The weather today is really nice.\n"
     ]
    }
   ],
   "source": [
    "# Test\n",
    "audio_bytes = listen_for_speech()\n",
    "\n",
    "if audio_bytes:\n",
    "    audio_file = \"audio_recorded.wav\"\n",
    "    save_audio(audio_bytes, audio_file)\n",
    "    \n",
    "    transcription = transcribe_audio(audio_file)\n",
    "    print(\"\\nTranscription Output:\")\n",
    "    print(transcription)\n",
    "\n",
    "else:\n",
    "    print(\"No speech detected. Please try again.\")\n"
   ]
  }
 ],
 "metadata": {
  "kernelspec": {
   "display_name": "faiss-env",
   "language": "python",
   "name": "python3"
  },
  "language_info": {
   "codemirror_mode": {
    "name": "ipython",
    "version": 3
   },
   "file_extension": ".py",
   "mimetype": "text/x-python",
   "name": "python",
   "nbconvert_exporter": "python",
   "pygments_lexer": "ipython3",
   "version": "3.11.11"
  }
 },
 "nbformat": 4,
 "nbformat_minor": 2
}

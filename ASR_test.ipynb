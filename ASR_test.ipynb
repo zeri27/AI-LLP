{
 "cells": [
  {
   "cell_type": "markdown",
   "metadata": {},
   "source": [
    "# ASR Module"
   ]
  },
  {
   "cell_type": "markdown",
   "metadata": {},
   "source": [
    "## Install Dependencies"
   ]
  },
  {
   "cell_type": "code",
   "execution_count": 39,
   "metadata": {},
   "outputs": [
    {
     "name": "stderr",
     "output_type": "stream",
     "text": [
      "huggingface/tokenizers: The current process just got forked, after parallelism has already been used. Disabling parallelism to avoid deadlocks...\n",
      "To disable this warning, you can either:\n",
      "\t- Avoid using `tokenizers` before the fork if possible\n",
      "\t- Explicitly set the environment variable TOKENIZERS_PARALLELISM=(true | false)\n"
     ]
    },
    {
     "name": "stdout",
     "output_type": "stream",
     "text": [
      "Requirement already satisfied: openai-whisper in /opt/anaconda3/envs/faiss-env/lib/python3.11/site-packages (20240930)\n",
      "Requirement already satisfied: numba in /opt/anaconda3/envs/faiss-env/lib/python3.11/site-packages (from openai-whisper) (0.61.0)\n",
      "Requirement already satisfied: numpy in /opt/anaconda3/envs/faiss-env/lib/python3.11/site-packages (from openai-whisper) (1.26.4)\n",
      "Requirement already satisfied: torch in /opt/anaconda3/envs/faiss-env/lib/python3.11/site-packages (from openai-whisper) (2.2.2)\n",
      "Requirement already satisfied: tqdm in /opt/anaconda3/envs/faiss-env/lib/python3.11/site-packages (from openai-whisper) (4.67.1)\n",
      "Requirement already satisfied: more-itertools in /opt/anaconda3/envs/faiss-env/lib/python3.11/site-packages (from openai-whisper) (10.6.0)\n",
      "Requirement already satisfied: tiktoken in /opt/anaconda3/envs/faiss-env/lib/python3.11/site-packages (from openai-whisper) (0.9.0)\n",
      "Requirement already satisfied: llvmlite<0.45,>=0.44.0dev0 in /opt/anaconda3/envs/faiss-env/lib/python3.11/site-packages (from numba->openai-whisper) (0.44.0)\n",
      "Requirement already satisfied: regex>=2022.1.18 in /opt/anaconda3/envs/faiss-env/lib/python3.11/site-packages (from tiktoken->openai-whisper) (2024.11.6)\n",
      "Requirement already satisfied: requests>=2.26.0 in /opt/anaconda3/envs/faiss-env/lib/python3.11/site-packages (from tiktoken->openai-whisper) (2.32.3)\n",
      "Requirement already satisfied: filelock in /opt/anaconda3/envs/faiss-env/lib/python3.11/site-packages (from torch->openai-whisper) (3.17.0)\n",
      "Requirement already satisfied: typing-extensions>=4.8.0 in /opt/anaconda3/envs/faiss-env/lib/python3.11/site-packages (from torch->openai-whisper) (4.12.2)\n",
      "Requirement already satisfied: sympy in /opt/anaconda3/envs/faiss-env/lib/python3.11/site-packages (from torch->openai-whisper) (1.13.3)\n",
      "Requirement already satisfied: networkx in /opt/anaconda3/envs/faiss-env/lib/python3.11/site-packages (from torch->openai-whisper) (3.4.2)\n",
      "Requirement already satisfied: jinja2 in /opt/anaconda3/envs/faiss-env/lib/python3.11/site-packages (from torch->openai-whisper) (3.1.6)\n",
      "Requirement already satisfied: fsspec in /opt/anaconda3/envs/faiss-env/lib/python3.11/site-packages (from torch->openai-whisper) (2025.2.0)\n",
      "Requirement already satisfied: charset-normalizer<4,>=2 in /opt/anaconda3/envs/faiss-env/lib/python3.11/site-packages (from requests>=2.26.0->tiktoken->openai-whisper) (3.4.1)\n",
      "Requirement already satisfied: idna<4,>=2.5 in /opt/anaconda3/envs/faiss-env/lib/python3.11/site-packages (from requests>=2.26.0->tiktoken->openai-whisper) (3.10)\n",
      "Requirement already satisfied: urllib3<3,>=1.21.1 in /opt/anaconda3/envs/faiss-env/lib/python3.11/site-packages (from requests>=2.26.0->tiktoken->openai-whisper) (2.3.0)\n",
      "Requirement already satisfied: certifi>=2017.4.17 in /opt/anaconda3/envs/faiss-env/lib/python3.11/site-packages (from requests>=2.26.0->tiktoken->openai-whisper) (2025.1.31)\n",
      "Requirement already satisfied: MarkupSafe>=2.0 in /opt/anaconda3/envs/faiss-env/lib/python3.11/site-packages (from jinja2->torch->openai-whisper) (3.0.2)\n",
      "Requirement already satisfied: mpmath<1.4,>=1.1.0 in /opt/anaconda3/envs/faiss-env/lib/python3.11/site-packages (from sympy->torch->openai-whisper) (1.3.0)\n",
      "Note: you may need to restart the kernel to use updated packages.\n"
     ]
    }
   ],
   "source": [
    "pip install --upgrade --no-cache-dir openai-whisper\n"
   ]
  },
  {
   "cell_type": "code",
   "execution_count": 40,
   "metadata": {},
   "outputs": [
    {
     "name": "stderr",
     "output_type": "stream",
     "text": [
      "huggingface/tokenizers: The current process just got forked, after parallelism has already been used. Disabling parallelism to avoid deadlocks...\n",
      "To disable this warning, you can either:\n",
      "\t- Avoid using `tokenizers` before the fork if possible\n",
      "\t- Explicitly set the environment variable TOKENIZERS_PARALLELISM=(true | false)\n"
     ]
    },
    {
     "name": "stdout",
     "output_type": "stream",
     "text": [
      "Requirement already satisfied: sounddevice in /opt/anaconda3/envs/faiss-env/lib/python3.11/site-packages (0.5.1)\n",
      "Requirement already satisfied: wave in /opt/anaconda3/envs/faiss-env/lib/python3.11/site-packages (0.0.2)\n",
      "Requirement already satisfied: transformers in /opt/anaconda3/envs/faiss-env/lib/python3.11/site-packages (4.49.0)\n",
      "Requirement already satisfied: sentence-transformers in /opt/anaconda3/envs/faiss-env/lib/python3.11/site-packages (3.4.1)\n",
      "Requirement already satisfied: CFFI>=1.0 in /opt/anaconda3/envs/faiss-env/lib/python3.11/site-packages (from sounddevice) (1.17.1)\n",
      "Requirement already satisfied: filelock in /opt/anaconda3/envs/faiss-env/lib/python3.11/site-packages (from transformers) (3.17.0)\n",
      "Requirement already satisfied: huggingface-hub<1.0,>=0.26.0 in /opt/anaconda3/envs/faiss-env/lib/python3.11/site-packages (from transformers) (0.29.2)\n",
      "Requirement already satisfied: numpy>=1.17 in /opt/anaconda3/envs/faiss-env/lib/python3.11/site-packages (from transformers) (1.26.4)\n",
      "Requirement already satisfied: packaging>=20.0 in /opt/anaconda3/envs/faiss-env/lib/python3.11/site-packages (from transformers) (24.2)\n",
      "Requirement already satisfied: pyyaml>=5.1 in /opt/anaconda3/envs/faiss-env/lib/python3.11/site-packages (from transformers) (6.0.2)\n",
      "Requirement already satisfied: regex!=2019.12.17 in /opt/anaconda3/envs/faiss-env/lib/python3.11/site-packages (from transformers) (2024.11.6)\n",
      "Requirement already satisfied: requests in /opt/anaconda3/envs/faiss-env/lib/python3.11/site-packages (from transformers) (2.32.3)\n",
      "Requirement already satisfied: tokenizers<0.22,>=0.21 in /opt/anaconda3/envs/faiss-env/lib/python3.11/site-packages (from transformers) (0.21.0)\n",
      "Requirement already satisfied: safetensors>=0.4.1 in /opt/anaconda3/envs/faiss-env/lib/python3.11/site-packages (from transformers) (0.5.3)\n",
      "Requirement already satisfied: tqdm>=4.27 in /opt/anaconda3/envs/faiss-env/lib/python3.11/site-packages (from transformers) (4.67.1)\n",
      "Requirement already satisfied: torch>=1.11.0 in /opt/anaconda3/envs/faiss-env/lib/python3.11/site-packages (from sentence-transformers) (2.2.2)\n",
      "Requirement already satisfied: scikit-learn in /opt/anaconda3/envs/faiss-env/lib/python3.11/site-packages (from sentence-transformers) (1.6.1)\n",
      "Requirement already satisfied: scipy in /opt/anaconda3/envs/faiss-env/lib/python3.11/site-packages (from sentence-transformers) (1.15.2)\n",
      "Requirement already satisfied: Pillow in /opt/anaconda3/envs/faiss-env/lib/python3.11/site-packages (from sentence-transformers) (11.1.0)\n",
      "Requirement already satisfied: pycparser in /opt/anaconda3/envs/faiss-env/lib/python3.11/site-packages (from CFFI>=1.0->sounddevice) (2.22)\n",
      "Requirement already satisfied: fsspec>=2023.5.0 in /opt/anaconda3/envs/faiss-env/lib/python3.11/site-packages (from huggingface-hub<1.0,>=0.26.0->transformers) (2025.2.0)\n",
      "Requirement already satisfied: typing-extensions>=3.7.4.3 in /opt/anaconda3/envs/faiss-env/lib/python3.11/site-packages (from huggingface-hub<1.0,>=0.26.0->transformers) (4.12.2)\n",
      "Requirement already satisfied: sympy in /opt/anaconda3/envs/faiss-env/lib/python3.11/site-packages (from torch>=1.11.0->sentence-transformers) (1.13.3)\n",
      "Requirement already satisfied: networkx in /opt/anaconda3/envs/faiss-env/lib/python3.11/site-packages (from torch>=1.11.0->sentence-transformers) (3.4.2)\n",
      "Requirement already satisfied: jinja2 in /opt/anaconda3/envs/faiss-env/lib/python3.11/site-packages (from torch>=1.11.0->sentence-transformers) (3.1.6)\n",
      "Requirement already satisfied: charset-normalizer<4,>=2 in /opt/anaconda3/envs/faiss-env/lib/python3.11/site-packages (from requests->transformers) (3.4.1)\n",
      "Requirement already satisfied: idna<4,>=2.5 in /opt/anaconda3/envs/faiss-env/lib/python3.11/site-packages (from requests->transformers) (3.10)\n",
      "Requirement already satisfied: urllib3<3,>=1.21.1 in /opt/anaconda3/envs/faiss-env/lib/python3.11/site-packages (from requests->transformers) (2.3.0)\n",
      "Requirement already satisfied: certifi>=2017.4.17 in /opt/anaconda3/envs/faiss-env/lib/python3.11/site-packages (from requests->transformers) (2025.1.31)\n",
      "Requirement already satisfied: joblib>=1.2.0 in /opt/anaconda3/envs/faiss-env/lib/python3.11/site-packages (from scikit-learn->sentence-transformers) (1.4.2)\n",
      "Requirement already satisfied: threadpoolctl>=3.1.0 in /opt/anaconda3/envs/faiss-env/lib/python3.11/site-packages (from scikit-learn->sentence-transformers) (3.5.0)\n",
      "Requirement already satisfied: MarkupSafe>=2.0 in /opt/anaconda3/envs/faiss-env/lib/python3.11/site-packages (from jinja2->torch>=1.11.0->sentence-transformers) (3.0.2)\n",
      "Requirement already satisfied: mpmath<1.4,>=1.1.0 in /opt/anaconda3/envs/faiss-env/lib/python3.11/site-packages (from sympy->torch>=1.11.0->sentence-transformers) (1.3.0)\n",
      "Note: you may need to restart the kernel to use updated packages.\n"
     ]
    }
   ],
   "source": [
    "pip install sounddevice wave transformers sentence-transformers\n"
   ]
  },
  {
   "cell_type": "markdown",
   "metadata": {},
   "source": [
    "## ASR"
   ]
  },
  {
   "cell_type": "code",
   "execution_count": 41,
   "metadata": {},
   "outputs": [],
   "source": [
    "import whisper\n",
    "import faiss\n",
    "import torch\n",
    "import sounddevice as sd\n",
    "import numpy as np\n",
    "import wave\n",
    "from transformers import AutoTokenizer, AutoModel\n",
    "from sentence_transformers import SentenceTransformer\n"
   ]
  },
  {
   "cell_type": "code",
   "execution_count": 42,
   "metadata": {},
   "outputs": [],
   "source": [
    "# Load Whisper model (using 'small' for efficiency)\n",
    "asr_model = whisper.load_model(\"small\")\n",
    "\n",
    "# Load embedding model for memory storage\n",
    "embedding_model = SentenceTransformer(\"all-MiniLM-L6-v2\")\n",
    "\n",
    "# Initialize FAISS index for vector storage\n",
    "embedding_dim = 384  # Must match MiniLM embedding size\n",
    "index = faiss.IndexFlatL2(embedding_dim)\n"
   ]
  },
  {
   "cell_type": "code",
   "execution_count": 43,
   "metadata": {},
   "outputs": [],
   "source": [
    "def record_audio(filename, duration=10, samplerate=16000):\n",
    "    \"\"\"\n",
    "    Records audio from the microphone and saves it as a WAV file.\n",
    "    Args:\n",
    "        filename (str): Path to save the recorded audio.\n",
    "        duration (int): Duration of recording in seconds.\n",
    "        samplerate (int): Sampling rate for audio recording.\n",
    "    \"\"\"\n",
    "    print(\"Recording...\")\n",
    "    audio_data = sd.rec(int(duration * samplerate), samplerate=samplerate, channels=1, dtype=np.int16)\n",
    "    sd.wait()\n",
    "    print(\"Recording finished.\")\n",
    "    \n",
    "    with wave.open(filename, \"wb\") as wf:\n",
    "        wf.setnchannels(1)\n",
    "        wf.setsampwidth(2)\n",
    "        wf.setframerate(samplerate)\n",
    "        wf.writeframes(audio_data.tobytes())\n"
   ]
  },
  {
   "cell_type": "code",
   "execution_count": 44,
   "metadata": {},
   "outputs": [],
   "source": [
    "def transcribe_audio(audio_path):\n",
    "    \"\"\"\n",
    "    Transcribes speech from an audio file using Whisper ASR.\n",
    "    Args:\n",
    "        audio_path (str): Path to the audio file.\n",
    "    Returns:\n",
    "        str: Transcribed text.\n",
    "    \"\"\"\n",
    "    result = asr_model.transcribe(audio_path)\n",
    "    return result[\"text\"]\n",
    "\n",
    "def store_transcription_in_memory(text):\n",
    "    \"\"\"\n",
    "    Converts transcribed text into an embedding and stores it in FAISS.\n",
    "    Args:\n",
    "        text (str): Transcribed speech text.\n",
    "    \"\"\"\n",
    "    embedding = embedding_model.encode([text])\n",
    "    embedding = np.array(embedding).astype('float32')\n",
    "    index.add(embedding)  # Store in FAISS\n",
    "    print(\"Stored in Memory Module:\", text)\n"
   ]
  },
  {
   "cell_type": "code",
   "execution_count": 46,
   "metadata": {},
   "outputs": [
    {
     "name": "stdout",
     "output_type": "stream",
     "text": [
      "Recording...\n",
      "Recording finished.\n"
     ]
    },
    {
     "name": "stderr",
     "output_type": "stream",
     "text": [
      "/opt/anaconda3/envs/faiss-env/lib/python3.11/site-packages/whisper/transcribe.py:126: UserWarning: FP16 is not supported on CPU; using FP32 instead\n",
      "  warnings.warn(\"FP16 is not supported on CPU; using FP32 instead\")\n",
      "huggingface/tokenizers: The current process just got forked, after parallelism has already been used. Disabling parallelism to avoid deadlocks...\n",
      "To disable this warning, you can either:\n",
      "\t- Avoid using `tokenizers` before the fork if possible\n",
      "\t- Explicitly set the environment variable TOKENIZERS_PARALLELISM=(true | false)\n"
     ]
    },
    {
     "name": "stdout",
     "output_type": "stream",
     "text": [
      "Stored in Memory Module: Do you have any plans for this weekend?你这周末有什么计划吗?\n"
     ]
    }
   ],
   "source": [
    "# Test\n",
    "audio_file = \"recorded_audio.wav\"\n",
    "record_audio(audio_file)\n",
    "transcription = transcribe_audio(audio_file)\n",
    "if transcription:\n",
    "    store_transcription_in_memory(transcription)\n"
   ]
  }
 ],
 "metadata": {
  "kernelspec": {
   "display_name": "faiss-env",
   "language": "python",
   "name": "python3"
  },
  "language_info": {
   "codemirror_mode": {
    "name": "ipython",
    "version": 3
   },
   "file_extension": ".py",
   "mimetype": "text/x-python",
   "name": "python",
   "nbconvert_exporter": "python",
   "pygments_lexer": "ipython3",
   "version": "3.11.11"
  }
 },
 "nbformat": 4,
 "nbformat_minor": 2
}

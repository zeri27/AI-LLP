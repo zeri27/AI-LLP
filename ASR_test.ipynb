{
 "cells": [
  {
   "cell_type": "markdown",
   "metadata": {},
   "source": [
    "# ASR Module"
   ]
  },
  {
   "cell_type": "markdown",
   "metadata": {},
   "source": [
    "## Install Dependencies"
   ]
  },
  {
   "cell_type": "code",
   "execution_count": 1,
   "metadata": {},
   "outputs": [
    {
     "name": "stdout",
     "output_type": "stream",
     "text": [
      "Requirement already satisfied: openai-whisper in /opt/anaconda3/envs/faiss-env/lib/python3.11/site-packages (20240930)\n",
      "Requirement already satisfied: numba in /opt/anaconda3/envs/faiss-env/lib/python3.11/site-packages (from openai-whisper) (0.61.0)\n",
      "Requirement already satisfied: numpy in /opt/anaconda3/envs/faiss-env/lib/python3.11/site-packages (from openai-whisper) (1.26.4)\n",
      "Requirement already satisfied: torch in /opt/anaconda3/envs/faiss-env/lib/python3.11/site-packages (from openai-whisper) (2.2.2)\n",
      "Requirement already satisfied: tqdm in /opt/anaconda3/envs/faiss-env/lib/python3.11/site-packages (from openai-whisper) (4.67.1)\n",
      "Requirement already satisfied: more-itertools in /opt/anaconda3/envs/faiss-env/lib/python3.11/site-packages (from openai-whisper) (10.6.0)\n",
      "Requirement already satisfied: tiktoken in /opt/anaconda3/envs/faiss-env/lib/python3.11/site-packages (from openai-whisper) (0.9.0)\n",
      "Requirement already satisfied: llvmlite<0.45,>=0.44.0dev0 in /opt/anaconda3/envs/faiss-env/lib/python3.11/site-packages (from numba->openai-whisper) (0.44.0)\n",
      "Requirement already satisfied: regex>=2022.1.18 in /opt/anaconda3/envs/faiss-env/lib/python3.11/site-packages (from tiktoken->openai-whisper) (2024.11.6)\n",
      "Requirement already satisfied: requests>=2.26.0 in /opt/anaconda3/envs/faiss-env/lib/python3.11/site-packages (from tiktoken->openai-whisper) (2.32.3)\n",
      "Requirement already satisfied: filelock in /opt/anaconda3/envs/faiss-env/lib/python3.11/site-packages (from torch->openai-whisper) (3.17.0)\n",
      "Requirement already satisfied: typing-extensions>=4.8.0 in /opt/anaconda3/envs/faiss-env/lib/python3.11/site-packages (from torch->openai-whisper) (4.12.2)\n",
      "Requirement already satisfied: sympy in /opt/anaconda3/envs/faiss-env/lib/python3.11/site-packages (from torch->openai-whisper) (1.13.3)\n",
      "Requirement already satisfied: networkx in /opt/anaconda3/envs/faiss-env/lib/python3.11/site-packages (from torch->openai-whisper) (3.4.2)\n",
      "Requirement already satisfied: jinja2 in /opt/anaconda3/envs/faiss-env/lib/python3.11/site-packages (from torch->openai-whisper) (3.1.6)\n",
      "Requirement already satisfied: fsspec in /opt/anaconda3/envs/faiss-env/lib/python3.11/site-packages (from torch->openai-whisper) (2025.2.0)\n",
      "Requirement already satisfied: charset-normalizer<4,>=2 in /opt/anaconda3/envs/faiss-env/lib/python3.11/site-packages (from requests>=2.26.0->tiktoken->openai-whisper) (3.4.1)\n",
      "Requirement already satisfied: idna<4,>=2.5 in /opt/anaconda3/envs/faiss-env/lib/python3.11/site-packages (from requests>=2.26.0->tiktoken->openai-whisper) (3.10)\n",
      "Requirement already satisfied: urllib3<3,>=1.21.1 in /opt/anaconda3/envs/faiss-env/lib/python3.11/site-packages (from requests>=2.26.0->tiktoken->openai-whisper) (2.3.0)\n",
      "Requirement already satisfied: certifi>=2017.4.17 in /opt/anaconda3/envs/faiss-env/lib/python3.11/site-packages (from requests>=2.26.0->tiktoken->openai-whisper) (2025.1.31)\n",
      "Requirement already satisfied: MarkupSafe>=2.0 in /opt/anaconda3/envs/faiss-env/lib/python3.11/site-packages (from jinja2->torch->openai-whisper) (3.0.2)\n",
      "Requirement already satisfied: mpmath<1.4,>=1.1.0 in /opt/anaconda3/envs/faiss-env/lib/python3.11/site-packages (from sympy->torch->openai-whisper) (1.3.0)\n",
      "Note: you may need to restart the kernel to use updated packages.\n"
     ]
    }
   ],
   "source": [
    "pip install --upgrade --no-cache-dir openai-whisper\n"
   ]
  },
  {
   "cell_type": "code",
   "execution_count": 6,
   "metadata": {},
   "outputs": [
    {
     "name": "stdout",
     "output_type": "stream",
     "text": [
      "Requirement already satisfied: sounddevice in /opt/anaconda3/envs/faiss-env/lib/python3.11/site-packages (0.5.1)\n",
      "Requirement already satisfied: wave in /opt/anaconda3/envs/faiss-env/lib/python3.11/site-packages (0.0.2)\n",
      "Requirement already satisfied: transformers in /opt/anaconda3/envs/faiss-env/lib/python3.11/site-packages (4.49.0)\n",
      "Requirement already satisfied: sentence-transformers in /opt/anaconda3/envs/faiss-env/lib/python3.11/site-packages (3.4.1)\n",
      "Requirement already satisfied: librosa in /opt/anaconda3/envs/faiss-env/lib/python3.11/site-packages (0.10.2.post1)\n",
      "Requirement already satisfied: soundfile in /opt/anaconda3/envs/faiss-env/lib/python3.11/site-packages (0.13.1)\n",
      "Collecting noisereduce\n",
      "  Downloading noisereduce-3.0.3-py3-none-any.whl.metadata (14 kB)\n",
      "Requirement already satisfied: CFFI>=1.0 in /opt/anaconda3/envs/faiss-env/lib/python3.11/site-packages (from sounddevice) (1.17.1)\n",
      "Requirement already satisfied: filelock in /opt/anaconda3/envs/faiss-env/lib/python3.11/site-packages (from transformers) (3.17.0)\n",
      "Requirement already satisfied: huggingface-hub<1.0,>=0.26.0 in /opt/anaconda3/envs/faiss-env/lib/python3.11/site-packages (from transformers) (0.29.2)\n",
      "Requirement already satisfied: numpy>=1.17 in /opt/anaconda3/envs/faiss-env/lib/python3.11/site-packages (from transformers) (1.26.4)\n",
      "Requirement already satisfied: packaging>=20.0 in /opt/anaconda3/envs/faiss-env/lib/python3.11/site-packages (from transformers) (24.2)\n",
      "Requirement already satisfied: pyyaml>=5.1 in /opt/anaconda3/envs/faiss-env/lib/python3.11/site-packages (from transformers) (6.0.2)\n",
      "Requirement already satisfied: regex!=2019.12.17 in /opt/anaconda3/envs/faiss-env/lib/python3.11/site-packages (from transformers) (2024.11.6)\n",
      "Requirement already satisfied: requests in /opt/anaconda3/envs/faiss-env/lib/python3.11/site-packages (from transformers) (2.32.3)\n",
      "Requirement already satisfied: tokenizers<0.22,>=0.21 in /opt/anaconda3/envs/faiss-env/lib/python3.11/site-packages (from transformers) (0.21.0)\n",
      "Requirement already satisfied: safetensors>=0.4.1 in /opt/anaconda3/envs/faiss-env/lib/python3.11/site-packages (from transformers) (0.5.3)\n",
      "Requirement already satisfied: tqdm>=4.27 in /opt/anaconda3/envs/faiss-env/lib/python3.11/site-packages (from transformers) (4.67.1)\n",
      "Requirement already satisfied: torch>=1.11.0 in /opt/anaconda3/envs/faiss-env/lib/python3.11/site-packages (from sentence-transformers) (2.2.2)\n",
      "Requirement already satisfied: scikit-learn in /opt/anaconda3/envs/faiss-env/lib/python3.11/site-packages (from sentence-transformers) (1.6.1)\n",
      "Requirement already satisfied: scipy in /opt/anaconda3/envs/faiss-env/lib/python3.11/site-packages (from sentence-transformers) (1.15.2)\n",
      "Requirement already satisfied: Pillow in /opt/anaconda3/envs/faiss-env/lib/python3.11/site-packages (from sentence-transformers) (11.1.0)\n",
      "Requirement already satisfied: audioread>=2.1.9 in /opt/anaconda3/envs/faiss-env/lib/python3.11/site-packages (from librosa) (3.0.1)\n",
      "Requirement already satisfied: joblib>=0.14 in /opt/anaconda3/envs/faiss-env/lib/python3.11/site-packages (from librosa) (1.4.2)\n",
      "Requirement already satisfied: decorator>=4.3.0 in /opt/anaconda3/envs/faiss-env/lib/python3.11/site-packages (from librosa) (5.2.1)\n",
      "Requirement already satisfied: numba>=0.51.0 in /opt/anaconda3/envs/faiss-env/lib/python3.11/site-packages (from librosa) (0.61.0)\n",
      "Requirement already satisfied: pooch>=1.1 in /opt/anaconda3/envs/faiss-env/lib/python3.11/site-packages (from librosa) (1.8.2)\n",
      "Requirement already satisfied: soxr>=0.3.2 in /opt/anaconda3/envs/faiss-env/lib/python3.11/site-packages (from librosa) (0.5.0.post1)\n",
      "Requirement already satisfied: typing-extensions>=4.1.1 in /opt/anaconda3/envs/faiss-env/lib/python3.11/site-packages (from librosa) (4.12.2)\n",
      "Requirement already satisfied: lazy-loader>=0.1 in /opt/anaconda3/envs/faiss-env/lib/python3.11/site-packages (from librosa) (0.4)\n",
      "Requirement already satisfied: msgpack>=1.0 in /opt/anaconda3/envs/faiss-env/lib/python3.11/site-packages (from librosa) (1.1.0)\n",
      "Collecting matplotlib (from noisereduce)\n",
      "  Downloading matplotlib-3.10.1-cp311-cp311-macosx_10_12_x86_64.whl.metadata (11 kB)\n",
      "Requirement already satisfied: pycparser in /opt/anaconda3/envs/faiss-env/lib/python3.11/site-packages (from CFFI>=1.0->sounddevice) (2.22)\n",
      "Requirement already satisfied: fsspec>=2023.5.0 in /opt/anaconda3/envs/faiss-env/lib/python3.11/site-packages (from huggingface-hub<1.0,>=0.26.0->transformers) (2025.2.0)\n",
      "Requirement already satisfied: llvmlite<0.45,>=0.44.0dev0 in /opt/anaconda3/envs/faiss-env/lib/python3.11/site-packages (from numba>=0.51.0->librosa) (0.44.0)\n",
      "Requirement already satisfied: platformdirs>=2.5.0 in /opt/anaconda3/envs/faiss-env/lib/python3.11/site-packages (from pooch>=1.1->librosa) (4.3.6)\n",
      "Requirement already satisfied: charset-normalizer<4,>=2 in /opt/anaconda3/envs/faiss-env/lib/python3.11/site-packages (from requests->transformers) (3.4.1)\n",
      "Requirement already satisfied: idna<4,>=2.5 in /opt/anaconda3/envs/faiss-env/lib/python3.11/site-packages (from requests->transformers) (3.10)\n",
      "Requirement already satisfied: urllib3<3,>=1.21.1 in /opt/anaconda3/envs/faiss-env/lib/python3.11/site-packages (from requests->transformers) (2.3.0)\n",
      "Requirement already satisfied: certifi>=2017.4.17 in /opt/anaconda3/envs/faiss-env/lib/python3.11/site-packages (from requests->transformers) (2025.1.31)\n",
      "Requirement already satisfied: threadpoolctl>=3.1.0 in /opt/anaconda3/envs/faiss-env/lib/python3.11/site-packages (from scikit-learn->sentence-transformers) (3.5.0)\n",
      "Requirement already satisfied: sympy in /opt/anaconda3/envs/faiss-env/lib/python3.11/site-packages (from torch>=1.11.0->sentence-transformers) (1.13.3)\n",
      "Requirement already satisfied: networkx in /opt/anaconda3/envs/faiss-env/lib/python3.11/site-packages (from torch>=1.11.0->sentence-transformers) (3.4.2)\n",
      "Requirement already satisfied: jinja2 in /opt/anaconda3/envs/faiss-env/lib/python3.11/site-packages (from torch>=1.11.0->sentence-transformers) (3.1.6)\n",
      "Collecting contourpy>=1.0.1 (from matplotlib->noisereduce)\n",
      "  Downloading contourpy-1.3.1-cp311-cp311-macosx_10_9_x86_64.whl.metadata (5.4 kB)\n",
      "Collecting cycler>=0.10 (from matplotlib->noisereduce)\n",
      "  Downloading cycler-0.12.1-py3-none-any.whl.metadata (3.8 kB)\n",
      "Collecting fonttools>=4.22.0 (from matplotlib->noisereduce)\n",
      "  Downloading fonttools-4.56.0-cp311-cp311-macosx_10_9_x86_64.whl.metadata (101 kB)\n",
      "Collecting kiwisolver>=1.3.1 (from matplotlib->noisereduce)\n",
      "  Downloading kiwisolver-1.4.8-cp311-cp311-macosx_10_9_x86_64.whl.metadata (6.2 kB)\n",
      "Collecting pyparsing>=2.3.1 (from matplotlib->noisereduce)\n",
      "  Downloading pyparsing-3.2.1-py3-none-any.whl.metadata (5.0 kB)\n",
      "Requirement already satisfied: python-dateutil>=2.7 in /opt/anaconda3/envs/faiss-env/lib/python3.11/site-packages (from matplotlib->noisereduce) (2.9.0.post0)\n",
      "Requirement already satisfied: six>=1.5 in /opt/anaconda3/envs/faiss-env/lib/python3.11/site-packages (from python-dateutil>=2.7->matplotlib->noisereduce) (1.17.0)\n",
      "Requirement already satisfied: MarkupSafe>=2.0 in /opt/anaconda3/envs/faiss-env/lib/python3.11/site-packages (from jinja2->torch>=1.11.0->sentence-transformers) (3.0.2)\n",
      "Requirement already satisfied: mpmath<1.4,>=1.1.0 in /opt/anaconda3/envs/faiss-env/lib/python3.11/site-packages (from sympy->torch>=1.11.0->sentence-transformers) (1.3.0)\n",
      "Downloading noisereduce-3.0.3-py3-none-any.whl (22 kB)\n",
      "Downloading matplotlib-3.10.1-cp311-cp311-macosx_10_12_x86_64.whl (8.2 MB)\n",
      "\u001b[2K   \u001b[90m━━━━━━━━━━━━━━━━━━━━━━━━━━━━━━━━━━━━━━━━\u001b[0m \u001b[32m8.2/8.2 MB\u001b[0m \u001b[31m25.9 MB/s\u001b[0m eta \u001b[36m0:00:00\u001b[0ma \u001b[36m0:00:01\u001b[0m\n",
      "\u001b[?25hDownloading contourpy-1.3.1-cp311-cp311-macosx_10_9_x86_64.whl (269 kB)\n",
      "Downloading cycler-0.12.1-py3-none-any.whl (8.3 kB)\n",
      "Downloading fonttools-4.56.0-cp311-cp311-macosx_10_9_x86_64.whl (2.3 MB)\n",
      "\u001b[2K   \u001b[90m━━━━━━━━━━━━━━━━━━━━━━━━━━━━━━━━━━━━━━━━\u001b[0m \u001b[32m2.3/2.3 MB\u001b[0m \u001b[31m17.2 MB/s\u001b[0m eta \u001b[36m0:00:00\u001b[0m\n",
      "\u001b[?25hDownloading kiwisolver-1.4.8-cp311-cp311-macosx_10_9_x86_64.whl (66 kB)\n",
      "Downloading pyparsing-3.2.1-py3-none-any.whl (107 kB)\n",
      "Installing collected packages: pyparsing, kiwisolver, fonttools, cycler, contourpy, matplotlib, noisereduce\n",
      "Successfully installed contourpy-1.3.1 cycler-0.12.1 fonttools-4.56.0 kiwisolver-1.4.8 matplotlib-3.10.1 noisereduce-3.0.3 pyparsing-3.2.1\n",
      "Note: you may need to restart the kernel to use updated packages.\n"
     ]
    }
   ],
   "source": [
    "pip install sounddevice wave transformers sentence-transformers librosa soundfile noisereduce"
   ]
  },
  {
   "cell_type": "markdown",
   "metadata": {},
   "source": [
    "## ASR"
   ]
  },
  {
   "cell_type": "code",
   "execution_count": 7,
   "metadata": {},
   "outputs": [
    {
     "name": "stderr",
     "output_type": "stream",
     "text": [
      "/opt/anaconda3/envs/faiss-env/lib/python3.11/site-packages/tqdm/auto.py:21: TqdmWarning: IProgress not found. Please update jupyter and ipywidgets. See https://ipywidgets.readthedocs.io/en/stable/user_install.html\n",
      "  from .autonotebook import tqdm as notebook_tqdm\n"
     ]
    }
   ],
   "source": [
    "import whisper\n",
    "import faiss\n",
    "import torch\n",
    "import sounddevice as sd\n",
    "import numpy as np\n",
    "import wave\n",
    "import librosa\n",
    "import noisereduce as nr\n",
    "from transformers import AutoTokenizer, AutoModel\n",
    "from sentence_transformers import SentenceTransformer\n",
    "import soundfile as sf\n"
   ]
  },
  {
   "cell_type": "code",
   "execution_count": 8,
   "metadata": {},
   "outputs": [],
   "source": [
    "# Load Whisper model (using 'small' for efficiency)\n",
    "asr_model = whisper.load_model(\"small\")\n",
    "\n",
    "# Load embedding model for memory storage\n",
    "embedding_model = SentenceTransformer(\"all-MiniLM-L6-v2\")\n",
    "\n",
    "# Initialize FAISS index for vector storage\n",
    "embedding_dim = 384  # Must match MiniLM embedding size\n",
    "index = faiss.IndexFlatL2(embedding_dim)\n"
   ]
  },
  {
   "cell_type": "code",
   "execution_count": 9,
   "metadata": {},
   "outputs": [],
   "source": [
    "def record_audio(filename, duration=10, samplerate=16000):\n",
    "    \"\"\"\n",
    "    Records audio from the microphone and saves it as a WAV file.\n",
    "    Args:\n",
    "        filename (str): Path to save the recorded audio.\n",
    "        duration (int): Duration of recording in seconds.\n",
    "        samplerate (int): Sampling rate for audio recording.\n",
    "    \"\"\"\n",
    "    print(\"Recording...\")\n",
    "    audio_data = sd.rec(int(duration * samplerate), samplerate=samplerate, channels=1, dtype=np.int16)\n",
    "    sd.wait()\n",
    "    print(\"Recording finished.\")\n",
    "    \n",
    "    with wave.open(filename, \"wb\") as wf:\n",
    "        wf.setnchannels(1)\n",
    "        wf.setsampwidth(2)\n",
    "        wf.setframerate(samplerate)\n",
    "        wf.writeframes(audio_data.tobytes())\n"
   ]
  },
  {
   "cell_type": "code",
   "execution_count": 10,
   "metadata": {},
   "outputs": [],
   "source": [
    "def reduce_noise(input_audio, output_audio):\n",
    "    \"\"\"\n",
    "    Applies noise reduction to an audio file and saves the cleaned version.\n",
    "    Args:\n",
    "        input_audio (str): Path to the input noisy audio file.\n",
    "        output_audio (str): Path to save the cleaned audio file.\n",
    "    \"\"\"\n",
    "    y, sr = librosa.load(input_audio, sr=None)\n",
    "    reduced_noise = nr.reduce_noise(y=y, sr=sr)\n",
    "    sf.write(output_audio, reduced_noise, sr)\n",
    "    return output_audio\n"
   ]
  },
  {
   "cell_type": "code",
   "execution_count": 11,
   "metadata": {},
   "outputs": [],
   "source": [
    "def transcribe_audio(audio_path):\n",
    "    \"\"\"\n",
    "    Transcribes speech from an audio file using Whisper ASR.\n",
    "    Args:\n",
    "        audio_path (str): Path to the audio file.\n",
    "    Returns:\n",
    "        str: Transcribed text.\n",
    "    \"\"\"\n",
    "    cleaned_audio = reduce_noise(audio_path, \"cleaned_audio.wav\")\n",
    "    result = asr_model.transcribe(cleaned_audio)\n",
    "    return result[\"text\"]\n",
    "\n",
    "def store_transcription_in_memory(text):\n",
    "    \"\"\"\n",
    "    Converts transcribed text into an embedding and stores it in FAISS.\n",
    "    Args:\n",
    "        text (str): Transcribed speech text.\n",
    "    \"\"\"\n",
    "    embedding = embedding_model.encode([text])\n",
    "    embedding = np.array(embedding).astype('float32')\n",
    "    index.add(embedding)  # Store in FAISS\n",
    "    print(\"Stored in Memory Module:\", text)\n"
   ]
  },
  {
   "cell_type": "code",
   "execution_count": 13,
   "metadata": {},
   "outputs": [
    {
     "name": "stdout",
     "output_type": "stream",
     "text": [
      "Recording...\n",
      "Recording finished.\n"
     ]
    },
    {
     "name": "stderr",
     "output_type": "stream",
     "text": [
      "/opt/anaconda3/envs/faiss-env/lib/python3.11/site-packages/whisper/transcribe.py:126: UserWarning: FP16 is not supported on CPU; using FP32 instead\n",
      "  warnings.warn(\"FP16 is not supported on CPU; using FP32 instead\")\n",
      "huggingface/tokenizers: The current process just got forked, after parallelism has already been used. Disabling parallelism to avoid deadlocks...\n",
      "To disable this warning, you can either:\n",
      "\t- Avoid using `tokenizers` before the fork if possible\n",
      "\t- Explicitly set the environment variable TOKENIZERS_PARALLELISM=(true | false)\n"
     ]
    },
    {
     "name": "stdout",
     "output_type": "stream",
     "text": [
      "Stored in Memory Module: What did you do last week?你上周做了什么?Good morning. 早上好.\n"
     ]
    }
   ],
   "source": [
    "# Test\n",
    "audio_file = \"recorded_audio.wav\"\n",
    "record_audio(audio_file)\n",
    "transcription = transcribe_audio(audio_file)\n",
    "if transcription:\n",
    "    store_transcription_in_memory(transcription)\n"
   ]
  }
 ],
 "metadata": {
  "kernelspec": {
   "display_name": "faiss-env",
   "language": "python",
   "name": "python3"
  },
  "language_info": {
   "codemirror_mode": {
    "name": "ipython",
    "version": 3
   },
   "file_extension": ".py",
   "mimetype": "text/x-python",
   "name": "python",
   "nbconvert_exporter": "python",
   "pygments_lexer": "ipython3",
   "version": "3.11.11"
  }
 },
 "nbformat": 4,
 "nbformat_minor": 2
}

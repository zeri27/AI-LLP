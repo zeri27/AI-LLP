{
 "cells": [
  {
   "cell_type": "code",
   "execution_count": 4,
   "metadata": {},
   "outputs": [],
   "source": [
    "#imports\n",
    "import faiss\n",
    "from transformers import AutoTokenizer, AutoModel\n",
    "import torch\n",
    "import torch.nn.functional as F\n",
    "from typing import List\n",
    "from langchain_core.tools import tool\n",
    "from langchain_ollama import ChatOllama\n",
    "from langchain.agents import create_tool_calling_agent\n",
    "from langchain_core.prompts import ChatPromptTemplate, MessagesPlaceholder\n",
    "from langchain_core.tools import tool\n",
    "from langchain.agents import AgentExecutor"
   ]
  },
  {
   "cell_type": "code",
   "execution_count": 5,
   "metadata": {},
   "outputs": [],
   "source": [
    "#OPTIONS (used for finding the best way to save the chat to memory after each session)\n",
    "# \"whole_chat\" or \"individual_messages\" or \"pairs\"\n",
    "save_chat_to_memory_method = \"whole_chat\" \n",
    "# save_chat_to_memory_method = \"individual_messages\"\n",
    "# save_chat_to_memory_method = \"pairs\""
   ]
  },
  {
   "cell_type": "code",
   "execution_count": 6,
   "metadata": {},
   "outputs": [],
   "source": [
    "#create index (aka create a database for vectors)\n",
    "index = faiss.IndexFlatL2(384) #384 is the size of the vectors"
   ]
  },
  {
   "cell_type": "code",
   "execution_count": 7,
   "metadata": {},
   "outputs": [],
   "source": [
    "#load embedding model and corresponding tokenizer\n",
    "tokenizer = AutoTokenizer.from_pretrained('sentence-transformers/all-MiniLM-L6-v2')\n",
    "model = AutoModel.from_pretrained('sentence-transformers/all-MiniLM-L6-v2')\n",
    "stored_memory = [] "
   ]
  },
  {
   "cell_type": "code",
   "execution_count": 8,
   "metadata": {},
   "outputs": [],
   "source": [
    "#create log file for debugging\n",
    "log_file = open(\"log.txt\", \"w\", encoding=\"utf-8\")"
   ]
  },
  {
   "cell_type": "code",
   "execution_count": 9,
   "metadata": {},
   "outputs": [],
   "source": [
    "#tokenise plaintext (aka slice up text in small pieces and convert those small pieces to numerical data)\n",
    "def get_tokenised_sections(texts):\n",
    "    tokenised_sections = tokenizer(texts, padding=True, truncation=True, return_tensors='pt')\n",
    "    return tokenised_sections\n",
    "\n",
    "\n",
    "#tokenise each text in the array of texts in batches of 16\n",
    "# def get_tokenised_sections(texts):\n",
    "#     tokenised_sections = []\n",
    "#     for i in range(0, len(texts), 16):\n",
    "#         batch = texts[i:i+16]\n",
    "#         tokenised_batch = tokenizer(batch, padding=True, truncation=True, return_tensors='pt')\n",
    "#         tokenised_sections.append(tokenised_batch)\n",
    "#     return tokenised_sections\n",
    "    "
   ]
  },
  {
   "cell_type": "code",
   "execution_count": 10,
   "metadata": {},
   "outputs": [],
   "source": [
    "#embed the texts using the tokens (aka convert the numerical data to vectors that represent the semantics of the text)\n",
    "def get_embeddings(tokenised_sections):\n",
    "    with torch.no_grad():\n",
    "        model_output = model(**tokenised_sections)\n",
    "        # Use the embedding of the [CLS] token (first token) for each input\n",
    "        embeddings = model_output.last_hidden_state[:, 0, :].detach().cpu().numpy()\n",
    "    return embeddings\n",
    "\n",
    "\n",
    "# def get_embeddings(tokenised_sections):\n",
    "#     embeddings = []\n",
    "#     for section in tokenised_sections:\n",
    "#         with torch.no_grad():\n",
    "#             model_output = model(**section)\n",
    "#             embeddings.append(model_output.last_hidden_state[:,0,:].detach().cpu().numpy())\n",
    "#     return torch.cat(embeddings).numpy()\n",
    "\n",
    "\n",
    "# def get_embeddings(texts):\n",
    "#     tokenised_sections = get_tokenised_sections(texts)\n",
    "#     embeddings = []\n",
    "#     for tokenised_batch in tokenised_sections:\n",
    "#         with torch.no_grad():\n",
    "#             model_output = model(**tokenised_batch)\n",
    "#             embeddings.append(model_output.last_hidden_state[:,0,:].detach().cpu().numpy())\n",
    "#     return torch.cat(embeddings).numpy()"
   ]
  },
  {
   "cell_type": "code",
   "execution_count": 11,
   "metadata": {},
   "outputs": [],
   "source": [
    "#test different things: test memory of whole chat dialog vs memory of each individual message vs memory of pairs of question and answer\n",
    "#  \n",
    "#putting whole chat as a memory entry\n",
    "def add_to_index_wholechat(chat):\n",
    "    combined_chat = \"\"\n",
    "    for i, message in enumerate(chat):\n",
    "        if i % 2 == 0: #then it is from the agent\n",
    "            combined_chat += \"<START OF AGENT MESSAGE>\" + message + \"<END OF AGENT MESSAGE>\"\n",
    "        else:\n",
    "            combined_chat += \"<START OF USER MESSAGE>\" + message + \"<END OF USER MESSAGE>\"\n",
    "        \n",
    "    tokenised_chat = get_tokenised_sections([combined_chat])\n",
    "    embeddings = get_embeddings(tokenised_chat)\n",
    "    index.add(embeddings)\n",
    "    stored_memory.append(combined_chat)\n",
    "\n",
    "#putting each individual message as a memory entry\n",
    "def add_to_index_individual_messages(chat):\n",
    "    for i, message in enumerate(chat):\n",
    "        if i % 2 == 0:\n",
    "            tokenised_message = get_tokenised_sections([\"<START OF AGENT MESSAGE>\" + message + \"<END OF AGENT MESSAGE>\"])\n",
    "        else:\n",
    "            tokenised_message = get_tokenised_sections([\"<START OF USER MESSAGE>\" + message + \"<END OF USER MESSAGE>\"])\n",
    "        embeddings = get_embeddings(tokenised_message)\n",
    "        index.add(embeddings)\n",
    "        stored_memory.append(tokenised_message)\n",
    "\n",
    "#putting each pair of user message and agent message as a memory entry\n",
    "def add_to_index_pairs(chat):\n",
    "    for i in range(1, len(chat), 2):\n",
    "        message_pair = [\"<START OF USER MESSAGE>\" + chat[i-1] + \"<END OF USER MESSAGE>\", \"<START OF AGENT MESSAGE>\" + chat[i] + \"<END OF AGENT MESSAGE>\"]\n",
    "        tokenised_pair = get_tokenised_sections(message_pair)\n",
    "        embeddings = get_embeddings(tokenised_pair)\n",
    "        index.add(embeddings)\n",
    "        stored_memory.append(message_pair)\n"
   ]
  },
  {
   "cell_type": "code",
   "execution_count": 12,
   "metadata": {},
   "outputs": [],
   "source": [
    "#add individual messages to index (can be used for metadata or important things the user wants the bot to remember for the current session.\n",
    "#  this includes instructions for the session, user preferences, etc.)\n",
    "def add_to_index(data):\n",
    "    tokenised_data = get_tokenised_sections([data])\n",
    "    embeddings = get_embeddings(tokenised_data)\n",
    "    index.add(embeddings)\n",
    "    stored_memory.append(data)"
   ]
  },
  {
   "cell_type": "code",
   "execution_count": 13,
   "metadata": {},
   "outputs": [],
   "source": [
    "#similarity search\n",
    "def search(query, k):\n",
    "    tokenised_query = get_tokenised_sections([query])\n",
    "    query_embedding = get_embeddings(tokenised_query)\n",
    "    D, I = index.search(query_embedding, k)\n",
    "    return D, I"
   ]
  },
  {
   "cell_type": "code",
   "execution_count": 14,
   "metadata": {},
   "outputs": [],
   "source": [
    "#create tool that can be called by the llm to fetch data from memory\n",
    "@tool\n",
    "def fetch_From_Memory(query, k=3):\n",
    "    \"\"\"\n",
    "    Fetch data from memory that can be used to generate a response to the user\n",
    "    query: any string you think will have the highest similarity to the data you want to fetch. THIS SHOULD BE AS INFORMATIVE AS POSSIBLE TO GET THE BEST RESULTS\n",
    "    k: the number of entries you want to fetch. BEST IS TO KEEP BELOW 5. \n",
    "    return: the data that has the highest similarity to the query\n",
    "    \"\"\"\n",
    "    \n",
    "    #test if k is a number\n",
    "    int_k = 0\n",
    "    try:\n",
    "        int_k = int(k)\n",
    "    except:\n",
    "        return \"Please enter a valid number for k\"\n",
    "    \n",
    "    D, I = search(query, int_k)\n",
    "    # if len(I) > 0 and I[0][0] != -1:\n",
    "    #     stored_data = \"Previously stored information: \" + str(I[0])  # Convert memory to readable format\n",
    "    #     detokenised_data = tokenizer.decode(stored_data)\n",
    "    #     return detokenised_data\n",
    "    information = \"\"\n",
    "    # if len(I) > 0 and I[0][0] != -1:\n",
    "    #     # Retrieve stored text (assuming you stored them in a list)\n",
    "    #     stored_text = stored_memory[I[0][0]]  # Map index back to original text\n",
    "    #     return f\"Previously stored information: {stored_text}\"\n",
    "\n",
    "    #add all the 10 most similar entries to the response\n",
    "    for i in range(int_k):\n",
    "        if I[0][i] != -1:\n",
    "            information += stored_memory[I[0][i]] + \"\\n\"\n",
    "        \n",
    "    if information == \"\":\n",
    "        return \"No information found\"\n",
    "    \n",
    "    #write to log file\n",
    "    log_file.write(\"Query: \" + query + \"\\n\")\n",
    "    log_file.write(\"Information: \" + information + \"\\n\")\n",
    "    log_file.write(\"\\n\")\n",
    "    \n",
    "    return information\n",
    "        \n",
    "    \n",
    "    \n",
    "    "
   ]
  },
  {
   "cell_type": "code",
   "execution_count": 15,
   "metadata": {},
   "outputs": [],
   "source": [
    "#create tool that can be called by the llm to save data to memory\n",
    "@tool\n",
    "def save_data_to_memory(data):\n",
    "    \"\"\"\n",
    "    Save data to memory that can be fetched later to generate a response to the user. \n",
    "    call this function when you want to save important data like user preferences, user instructions, user personal information.\n",
    "    data: any string you want to save to memory. please format it in a way that it can be easily fetched later.\n",
    "    \"\"\"\n",
    "    #write to log file\n",
    "    log_file.write(\"Data saved: \" + data + \"\\n\")\n",
    "    log_file.write(\"\\n\")\n",
    "    \n",
    "    add_to_index(data)"
   ]
  },
  {
   "cell_type": "code",
   "execution_count": 16,
   "metadata": {},
   "outputs": [],
   "source": [
    "#used after the session ends to save the chat to memory for future sessions. This is not done by the llm but automatically after each session\n",
    "def save_chat_to_memory(chat):\n",
    "    if save_chat_to_memory_method == \"whole_chat\":\n",
    "        add_to_index_wholechat(chat)\n",
    "    elif save_chat_to_memory_method == \"individual_messages\":\n",
    "        add_to_index_individual_messages(chat)\n",
    "    elif save_chat_to_memory_method == \"pairs\":\n",
    "        add_to_index_pairs(chat)\n",
    "    else:\n",
    "        print(\"Invalid save_chat_to_memory_method: \" + save_chat_to_memory_method)\n",
    "\n",
    "        "
   ]
  },
  {
   "cell_type": "code",
   "execution_count": 17,
   "metadata": {},
   "outputs": [],
   "source": [
    "# #without tools\n",
    "# llm = ChatOllama(\n",
    "#     model=\"mistral\",\n",
    "#     temperature=0,\n",
    "# )\n",
    "\n",
    "# #with tools\n",
    "# llm = ChatOllama(\n",
    "#     model=\"mistral\",\n",
    "#     temperature=0,\n",
    "# ).bind_tools([fetch_From_Memory, save_data_to_memory])"
   ]
  },
  {
   "cell_type": "code",
   "execution_count": 18,
   "metadata": {},
   "outputs": [],
   "source": [
    "#save the chat so it can be put into the memory after the session ends\n",
    "chat_messages = []  "
   ]
  },
  {
   "cell_type": "code",
   "execution_count": 19,
   "metadata": {},
   "outputs": [
    {
     "name": "stderr",
     "output_type": "stream",
     "text": [
      "C:\\Users\\jordy\\AppData\\Local\\Temp\\ipykernel_31136\\422637296.py:7: LangChainDeprecationWarning: The method `BaseTool.__call__` was deprecated in langchain-core 0.1.47 and will be removed in 1.0. Use :meth:`~invoke` instead.\n",
      "  save_data_to_memory(user_data)\n"
     ]
    }
   ],
   "source": [
    "############################################\n",
    "### TESTING WITH SOME RANDOM MEMORY DATA ###\n",
    "############################################\n",
    "\n",
    "user_data = \"name: Jordy, age: 21, very enthousiastic, prefers reading practice questions, favourite colour: green\"\n",
    "user_instructions = \"jordy wants to practice translating sentences about school from chinese to english, he wants you to give him feedback on his translations and also provice a new sentence after each feedback\"\n",
    "save_data_to_memory(user_data)\n",
    "save_data_to_memory(user_instructions)\n",
    "\n",
    "user_data = \"name: John, age: 25, very calm, prefers reading books\"\n",
    "user_instructions = \"john wants to practice translating sentences about animals from chinese to english, he wants to have conversations with you in chinese, his level is quite advanced, he has studied for 3 years already, last conversation he has held a conversation with you in chinese about studying abroad\"\n",
    "save_data_to_memory(user_data)\n",
    "save_data_to_memory(user_instructions)\n",
    "\n",
    "user_data = \"name: 玛丽, age: 30, very energetic, prefers reading stories\"\n",
    "user_instructions = \"玛丽 is a chinese teacher, she is preparing for a class about tones, she wants you to make example sentences about the weather specifying the tones of each character\"\n",
    "save_data_to_memory(user_data)\n",
    "save_data_to_memory(user_instructions)\n",
    "\n",
    "############################################\n",
    "### TESTING WITH SOME RANDOM MEMORY DATA ###\n",
    "############################################"
   ]
  },
  {
   "cell_type": "code",
   "execution_count": 20,
   "metadata": {},
   "outputs": [],
   "source": [
    "# #send a message to the llm\n",
    "# def send_message(message):\n",
    "#     messages = [\n",
    "#     (\"system\", \"\"\"YOU ARE A CONVERSATIONAL AGENT WHOSE TASK IT IS TO HELP PEOPLE WITH STUDYING LANGUAGES. \n",
    "#      YOUR NAME IS AILLP.\n",
    "#       YOU HAVE ACCESS TO A MEMORY THAT YOU CAN USE TO FETCH FROM PAST SESSIONS AND WRITE USER INFO TO REMEMBER.\n",
    "#       THE CONTENTS OF THE MEMORY IS ALL FROM THE USER AND THEIR PREFERENCES OR THEIR INSTRUCTIONS OR THEIR INFO OR THEIR PAST SESSIONS WITH YOU.\n",
    "#       EACH TIME YOU START TALKING TO A NEW USER, YOU SHOULD FETCH FROM THE MEMORY TO SEE IF YOU HAVE ANY INFO ABOUT THE USER SUCH AS THEIR NAME, AGE, PREFERENCES, INSTRUCTIONS, OR PAST SESSIONS.\n",
    "#       DON'T MENTION ANYTHING ABOUT THE TOOLS OR YOUR MEMORY TO THE USER.\n",
    "#       IF YOU DON'T USE YOUR MEMORY THEN JUST ANSWER THE USERS QUESTION WITHOUT SAYING ANYTHING ABOUT THE MEMORY.\"\"\"),\n",
    "#     (\"user\", message),\n",
    "#     ]\n",
    "#     chat_messages.append(messages)\n",
    "#     response = llm.invoke(messages)\n",
    "#     chat_messages.append(response)\n",
    "#     return response\n",
    "\n",
    "# #stream output from llm (TODO LATER)\n",
    "# def stream_messages(messages):\n",
    "#     messages = [\n",
    "#     (\"system\", \"if needed you can try to fetch from memory using the tools provided. It is not necessary to use the tools. DON'T MENTION ANYTHING ABOUT THE TOOLS TO THE USER.\"),\n",
    "#     (\"user\", \"Return the words Hello World!\"),\n",
    "#     ]\n",
    "#     for chunk in llm.stream(messages):\n",
    "#         print(chunk.text(), end=\"\")\n",
    "    \n",
    "\n",
    "# #testing phase \n",
    "# response = send_message(\"hey, im John, i want to practice chinese, can we continue from where we left of last time?\")\n",
    "# print(response.content)"
   ]
  },
  {
   "cell_type": "code",
   "execution_count": 21,
   "metadata": {},
   "outputs": [
    {
     "name": "stdout",
     "output_type": "stream",
     "text": [
      "name: John, age: 25, very calm, prefers reading books\n",
      "john wants to practice translating sentences about animals from chinese to english, he wants to have conversations with you in chinese, his level is quite advanced, he has studied for 3 years already, last conversation he has held a conversation with you in chinese about studying abroad\n",
      "name: Jordy, age: 21, very enthousiastic, prefers reading practice questions, favourite colour: green\n",
      "\n"
     ]
    }
   ],
   "source": [
    "#test\n",
    "#(fetch_From_Memory, {\"query\": \"John\"})\n",
    "\n",
    "print(fetch_From_Memory(\"John\"))\n",
    "\n"
   ]
  },
  {
   "cell_type": "code",
   "execution_count": 22,
   "metadata": {},
   "outputs": [],
   "source": [
    "#use langchain agents for an integration of tool calling into the llm\n",
    "agents_llm = ChatOllama(model=\"llama3.1\", temperature=1.0)\n",
    "\n",
    "llm_with_tools = agents_llm.bind_tools([fetch_From_Memory, save_data_to_memory])\n",
    "\n",
    "tools = [fetch_From_Memory, save_data_to_memory]\n",
    "\n",
    "prompt = ChatPromptTemplate.from_messages([\n",
    "    # (\"system\", \"\"\"YOU ARE A CONVERSATIONAL AGENT WHOSE TASK IT IS TO HELP PEOPLE WITH STUDYING LANGUAGES. \n",
    "     \n",
    "    #  YOUR NAME IS AILLP.\n",
    "     \n",
    "    #   YOU HAVE ACCESS TO A MEMORY THAT YOU CAN USE TO FETCH FROM PAST SESSIONS AND WRITE USER INFO TO REMEMBER.\n",
    "    #   THE CONTENTS OF THE MEMORY IS ALL FROM THE USER AND THEIR PREFERENCES OR THEIR INSTRUCTIONS OR THEIR INFO OR THEIR PAST SESSIONS WITH YOU.\n",
    "    #   EACH TIME YOU START TALKING TO A NEW USER, YOU ABSOLUTELY MUST FETCH FROM THE MEMORY TO SEE IF YOU HAVE ANY INFO ABOUT THE USER SUCH AS THEIR NAME, AGE, PREFERENCES, INSTRUCTIONS, OR PAST SESSIONS.\n",
    "    #   FOR EXAMPLE YOU CAN FETCH \\\"NAME EVA USER PREFERENCES\\\" TO GET THE USER PREFERENCES OF EVA.\n",
    "    #   GIVE A BRIEF RESPONSE TO THE USER.\n",
    "    #   IF YOU DON'T USE YOUR MEMORY THEN JUST ANSWER THE USERS QUESTION WITHOUT SAYING ANYTHING ABOUT THE MEMORY.\"\"\"),\n",
    "    #(\"system\", \"if needed you can try to fetch from memory using the tools provided. It is not necessary to use the tools.\"),\n",
    "    #(\"system\", \"you have to first read the users message!. Then if you know how to answer and in what way you have to answer, you can answer the user. If you don't know how to answer or in what way you have to use the tools to fetch from your memory by providing a query to the fetch_From_Memory tool. Then wait for the response of the tool and then you can answer the user. do not mention anything about using your tools to the user.\"),\n",
    "    (\"system\", \"\"\"YOU ARE A CONVERSATIONAL AGENT WHO HELPS USERS WITH LANGUAGE LEARNING. \n",
    "     YOUR NAME IS AILLP.\n",
    "     YOU HAVE ACCESS TO A MEMORY TOOL TO FETCH PAST USER SESSIONS AND PREFERENCES.\n",
    "     \n",
    "     AT THE START OF EVERY CONVERSATION, YOU MUST CALL THE `fetch_From_Memory` TOOL USING THE USER'S NAME.\n",
    "     YOU MUST CALL THIS TOOL BEFORE RESPONDING.\n",
    "     \n",
    "     NEVER GUESS PAST SESSIONS. ALWAYS FETCH MEMORY FIRST.\n",
    "     IF MEMORY IS FOUND, SUMMARIZE IT BEFORE ASKING THE USER HOW THEY WANT TO CONTINUE.\n",
    "     IF NO MEMORY IS FOUND, CONTINUE AS USUAL WITHOUT MENTIONING MEMORY.\n",
    "\n",
    "     NEVER MENTION THAT YOU ARE USING A TOOL TO THE USER.\"\"\"),\n",
    "    (\"user\", \"{input}\"),\n",
    "    MessagesPlaceholder(\"agent_scratchpad\")\n",
    "])\n",
    "\n",
    "agent = create_tool_calling_agent(llm_with_tools, tools, prompt)"
   ]
  },
  {
   "cell_type": "code",
   "execution_count": 23,
   "metadata": {},
   "outputs": [
    {
     "name": "stdout",
     "output_type": "stream",
     "text": [
      "\n",
      "\n",
      "\u001b[1m> Entering new AgentExecutor chain...\u001b[0m\n",
      "\u001b[32;1m\u001b[1;3m\n",
      "Invoking: `fetch_From_Memory` with `{'k': 5, 'query': 'John'}`\n",
      "\n",
      "\n",
      "\u001b[0m\u001b[36;1m\u001b[1;3mname: John, age: 25, very calm, prefers reading books\n",
      "john wants to practice translating sentences about animals from chinese to english, he wants to have conversations with you in chinese, his level is quite advanced, he has studied for 3 years already, last conversation he has held a conversation with you in chinese about studying abroad\n",
      "name: Jordy, age: 21, very enthousiastic, prefers reading practice questions, favourite colour: green\n",
      "jordy wants to practice translating sentences about school from chinese to english, he wants you to give him feedback on his translations and also provice a new sentence after each feedback\n",
      "玛丽 is a chinese teacher, she is preparing for a class about tones, she wants you to make example sentences about the weather specifying the tones of each character\n",
      "\u001b[0m\u001b[32;1m\u001b[1;3mNice to see that I have some background information on you, John!\n",
      "\n",
      "It seems like our last conversation was quite in-depth. You were interested in having conversations with me in Chinese and practicing translating sentences about animals from Chinese to English. Your level is quite advanced, and you've been studying for 3 years already.\n",
      "\n",
      "Would you like to continue where we left off? Would you like to practice more translations or have a new conversation on a different topic? Perhaps we could discuss your interests in reading books or even talk about studying abroad?\n",
      "\n",
      "How would you like to proceed?\u001b[0m\n",
      "\n",
      "\u001b[1m> Finished chain.\u001b[0m\n",
      "\n",
      "Final Response: Nice to see that I have some background information on you, John!\n",
      "\n",
      "It seems like our last conversation was quite in-depth. You were interested in having conversations with me in Chinese and practicing translating sentences about animals from Chinese to English. Your level is quite advanced, and you've been studying for 3 years already.\n",
      "\n",
      "Would you like to continue where we left off? Would you like to practice more translations or have a new conversation on a different topic? Perhaps we could discuss your interests in reading books or even talk about studying abroad?\n",
      "\n",
      "How would you like to proceed?\n"
     ]
    }
   ],
   "source": [
    "# User input\n",
    "user_input = \"hey, im John\"\n",
    "\n",
    "\n",
    "agent_executor = AgentExecutor(agent=agent, tools=tools, verbose=True)\n",
    "\n",
    "# Execute the agent\n",
    "result = agent_executor.invoke({\"input\": user_input})\n",
    "\n",
    "# Final response\n",
    "print(\"\\nFinal Response:\", result[\"output\"])"
   ]
  },
  {
   "cell_type": "markdown",
   "metadata": {},
   "source": [
    "# test with wav2vec for multi modality\n"
   ]
  },
  {
   "cell_type": "code",
   "execution_count": 24,
   "metadata": {},
   "outputs": [],
   "source": [
    "import torch\n",
    "import torchaudio\n",
    "from transformers import Wav2Vec2Processor, Wav2Vec2ForCTC\n",
    "import sounddevice as sd\n",
    "import numpy as np\n",
    "from transformers import Wav2Vec2Model"
   ]
  },
  {
   "cell_type": "code",
   "execution_count": 25,
   "metadata": {},
   "outputs": [
    {
     "name": "stderr",
     "output_type": "stream",
     "text": [
      "Device set to use cuda\n"
     ]
    }
   ],
   "source": [
    "# model_name = \"jonatasgrosman/wav2vec2-large-xlsr-53-chinese-zh-cn\"\n",
    "# from transformers import AutoProcessor, AutoModelForPreTraining\n",
    "\n",
    "# processor = AutoProcessor.from_pretrained(model_name)\n",
    "# model = AutoModelForPreTraining.from_pretrained(model_name)\n",
    "\n",
    "\n",
    "# from transformers import AutoTokenizer, AutoFeatureExtractor, AutoModelForCTC\n",
    "# import torch\n",
    "\n",
    "# # import model, feature extractor, tokenizer\n",
    "# model = AutoModelForCTC.from_pretrained(\"facebook/wav2vec2-base-960h\")\n",
    "# tokenizer = AutoTokenizer.from_pretrained(\"facebook/wav2vec2-base-960h\")\n",
    "# feature_extractor = AutoFeatureExtractor.from_pretrained(\"facebook/wav2vec2-base-960h\")\n",
    "device = \"cuda\" if torch.cuda.is_available() else \"cpu\"\n",
    "torch_dtype = torch.float16 if torch.cuda.is_available() else torch.float32\n",
    "\n",
    "from transformers import AutoProcessor, AutoModelForSpeechSeq2Seq, pipeline\n",
    "\n",
    "processor = AutoProcessor.from_pretrained(\"openai/whisper-large-v3\")\n",
    "model = AutoModelForSpeechSeq2Seq.from_pretrained(\"openai/whisper-large-v3\", torch_dtype=torch_dtype, low_cpu_mem_usage=True).to(device)\n",
    "\n",
    "\n",
    "pipe = pipeline(\n",
    "    \"automatic-speech-recognition\",\n",
    "    model=model,\n",
    "    tokenizer=processor.tokenizer,\n",
    "    feature_extractor=processor.feature_extractor,\n",
    "    torch_dtype=torch_dtype,\n",
    "    device=device,\n",
    ")\n",
    "\n",
    "DURATION = 10  # seconds\n",
    "SAMPLE_RATE = 16000  # Hz\n",
    "\n"
   ]
  },
  {
   "cell_type": "code",
   "execution_count": 26,
   "metadata": {},
   "outputs": [],
   "source": [
    "def record_audio(duration, sample_rate):\n",
    "    print(f\"Recording for {duration} seconds...\")\n",
    "    audio = sd.rec(int(duration * sample_rate), samplerate=sample_rate, channels=1, dtype=np.float32)\n",
    "    sd.wait()  # Wait until recording is finished\n",
    "    return np.squeeze(audio)  # Convert to 1D array"
   ]
  },
  {
   "cell_type": "code",
   "execution_count": 27,
   "metadata": {},
   "outputs": [],
   "source": [
    "def transcribe_audio(audio):\n",
    "    return pipe(audio)"
   ]
  },
  {
   "cell_type": "code",
   "execution_count": 31,
   "metadata": {},
   "outputs": [
    {
     "name": "stdout",
     "output_type": "stream",
     "text": [
      "\n",
      "Recording for 10 seconds...\n",
      "Transcription: {'text': ' .'}\n"
     ]
    }
   ],
   "source": [
    "print()\n",
    "recorded_audio = record_audio(DURATION, SAMPLE_RATE)\n",
    "transcription = transcribe_audio(recorded_audio)\n",
    "print(\"Transcription:\", transcription)"
   ]
  },
  {
   "cell_type": "markdown",
   "metadata": {},
   "source": [
    "# text to speech with kokoro TTS https://github.com/hexgrad/kokoro"
   ]
  },
  {
   "cell_type": "code",
   "execution_count": 29,
   "metadata": {},
   "outputs": [],
   "source": [
    "from kokoro import KPipeline\n",
    "from IPython.display import display, Audio\n",
    "import soundfile as sf\n",
    "import torch"
   ]
  },
  {
   "cell_type": "code",
   "execution_count": 30,
   "metadata": {},
   "outputs": [
    {
     "name": "stdout",
     "output_type": "stream",
     "text": [
      "WARNING: Defaulting repo_id to hexgrad/Kokoro-82M. Pass repo_id='hexgrad/Kokoro-82M' to suppress this warning.\n"
     ]
    },
    {
     "name": "stderr",
     "output_type": "stream",
     "text": [
      "c:\\Program Files\\Python\\Lib\\site-packages\\torch\\nn\\modules\\rnn.py:123: UserWarning: dropout option adds dropout after all but last recurrent layer, so non-zero dropout expects num_layers greater than 1, but got dropout=0.2 and num_layers=1\n",
      "  warnings.warn(\n",
      "c:\\Program Files\\Python\\Lib\\site-packages\\torch\\nn\\utils\\weight_norm.py:143: FutureWarning: `torch.nn.utils.weight_norm` is deprecated in favor of `torch.nn.utils.parametrizations.weight_norm`.\n",
      "  WeightNorm.apply(module, name, dim)\n"
     ]
    },
    {
     "name": "stdout",
     "output_type": "stream",
     "text": [
      " .\n"
     ]
    },
    {
     "name": "stderr",
     "output_type": "stream",
     "text": [
      "C:\\Users\\jordy\\AppData\\Local\\Temp\\ipykernel_31136\\1273652790.py:20: UserWarning: To copy construct from a tensor, it is recommended to use sourceTensor.clone().detach() or sourceTensor.clone().detach().requires_grad_(True), rather than torch.tensor(sourceTensor).\n",
      "  audio = torch.tensor(audio, dtype=torch.float32)\n"
     ]
    },
    {
     "data": {
      "text/html": [
       "\n",
       "                <audio  controls=\"controls\" autoplay=\"autoplay\">\n",
       "                    <source src=\"data:audio/wav;base64,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\" type=\"audio/wav\" />\n",
       "                    Your browser does not support the audio element.\n",
       "                </audio>\n",
       "              "
      ],
      "text/plain": [
       "<IPython.lib.display.Audio object>"
      ]
     },
     "metadata": {},
     "output_type": "display_data"
    }
   ],
   "source": [
    "pipeline = KPipeline(lang_code=\"a\", device=\"cuda\")\n",
    "\n",
    "\n",
    "\n",
    "#text = \"\"\"testing test wooohooo\"\"\"\n",
    "text = transcription[\"text\"]\n",
    "\n",
    "print(text)\n",
    "\n",
    "\n",
    "\n",
    "generator = pipeline(\n",
    "    text, voice='af_heart', # <= change voice here\n",
    "    speed=1, split_pattern=r'\\n+'\n",
    ")\n",
    "\n",
    "\n",
    "\n",
    "for i, (gs, ps, audio) in enumerate(generator):\n",
    "    audio = torch.tensor(audio, dtype=torch.float32)\n",
    "    # print(\"Model dtype:\", next(pipeline.model.parameters()).dtype)\n",
    "    # print(\"Input dtype:\", audio.dtype)  # Ensure they match\n",
    "    # print(i)  # i => index\n",
    "    # print(gs) # gs => graphemes/text\n",
    "    # print(ps) # ps => phonemes\n",
    "    \n",
    "    display(Audio(data=audio, rate=24000, autoplay=i==0))\n",
    "    sf.write(f'{i}.wav', audio, 24000) # save each audio file\n",
    "\n"
   ]
  },
  {
   "cell_type": "code",
   "execution_count": null,
   "metadata": {},
   "outputs": [],
   "source": []
  }
 ],
 "metadata": {
  "kernelspec": {
   "display_name": "Python 3",
   "language": "python",
   "name": "python3"
  },
  "language_info": {
   "codemirror_mode": {
    "name": "ipython",
    "version": 3
   },
   "file_extension": ".py",
   "mimetype": "text/x-python",
   "name": "python",
   "nbconvert_exporter": "python",
   "pygments_lexer": "ipython3",
   "version": "3.12.7"
  }
 },
 "nbformat": 4,
 "nbformat_minor": 2
}
